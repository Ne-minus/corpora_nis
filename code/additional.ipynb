{
  "nbformat": 4,
  "nbformat_minor": 0,
  "metadata": {
    "colab": {
      "provenance": []
    },
    "kernelspec": {
      "name": "python3",
      "display_name": "Python 3"
    },
    "language_info": {
      "name": "python"
    }
  },
  "cells": [
    {
      "cell_type": "code",
      "source": [
        "from itertools import combinations"
      ],
      "metadata": {
        "id": "5X5wKqsvLMdk"
      },
      "execution_count": 38,
      "outputs": []
    },
    {
      "cell_type": "code",
      "source": [
        "import itertools"
      ],
      "metadata": {
        "id": "GOKi_5T4R0Q7"
      },
      "execution_count": 39,
      "outputs": []
    },
    {
      "cell_type": "code",
      "source": [
        "import pandas as pd"
      ],
      "metadata": {
        "id": "yKVc7t3AM1BN"
      },
      "execution_count": 40,
      "outputs": []
    },
    {
      "cell_type": "code",
      "source": [
        "from collections import Counter"
      ],
      "metadata": {
        "id": "tX2PHuUrQ2MX"
      },
      "execution_count": 41,
      "outputs": []
    },
    {
      "cell_type": "code",
      "source": [
        "def pairing(texts):\n",
        "  all_pairs = list(sorted(combinations(texts, r=2)))\n",
        "  pairs_sorted = [tuple(sorted(pair)) for pair in all_pairs]\n",
        "  return pairs_sorted"
      ],
      "metadata": {
        "id": "xdNPQWm-QOxH"
      },
      "execution_count": 42,
      "outputs": []
    },
    {
      "cell_type": "code",
      "source": [
        "df = pd.read_csv('/content/csv_version - csv_version (1).csv', names=['number', 'id', 'lang',  'context', 'text', 'grammar_tag', 'grammar_tag_value'])"
      ],
      "metadata": {
        "id": "VKYeRVyTllff"
      },
      "execution_count": 43,
      "outputs": []
    },
    {
      "cell_type": "code",
      "source": [
        "df1 = df.groupby('id').agg({'text':lambda x: tuple(x)})"
      ],
      "metadata": {
        "id": "jyEUz7JYlzhY"
      },
      "execution_count": 44,
      "outputs": []
    },
    {
      "cell_type": "code",
      "source": [
        "df1['pairs'] = df1['text'].apply(pairing)"
      ],
      "metadata": {
        "id": "98Vts2DeNc4U"
      },
      "execution_count": 45,
      "outputs": []
    },
    {
      "cell_type": "code",
      "source": [
        "c = Counter()\n",
        "for i in df1['pairs']:\n",
        "  c.update(i)"
      ],
      "metadata": {
        "id": "KEXP0_d2TM6V"
      },
      "execution_count": 46,
      "outputs": []
    },
    {
      "cell_type": "code",
      "source": [
        "list_of_all = [[pair[0], pair[1], c[pair]] for pair in c]"
      ],
      "metadata": {
        "id": "68AaoVasU5BS"
      },
      "execution_count": 47,
      "outputs": []
    },
    {
      "cell_type": "code",
      "source": [
        "final_df = pd.DataFrame(list_of_all, columns =['1st', '2nd', 'number']).sort_values(by=['number'], ascending=False)"
      ],
      "metadata": {
        "id": "k8uLU0pDVkjG"
      },
      "execution_count": 48,
      "outputs": []
    },
    {
      "cell_type": "code",
      "source": [
        "final_df.to_csv('graph.csv')"
      ],
      "metadata": {
        "id": "FGItr1OKSWrq"
      },
      "execution_count": 49,
      "outputs": []
    }
  ]
}