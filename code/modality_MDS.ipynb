{
  "cells": [
    {
      "cell_type": "code",
      "source": [
        "from google.colab import drive\n",
        "\n",
        "drive.mount('/content/gdrive', force_remount=True)"
      ],
      "metadata": {
        "colab": {
          "base_uri": "https://localhost:8080/"
        },
        "id": "qAsdIO7hiWzo",
        "outputId": "b4badb71-56f3-4de8-ecf5-6b91e4a77f92"
      },
      "id": "qAsdIO7hiWzo",
      "execution_count": null,
      "outputs": [
        {
          "output_type": "stream",
          "name": "stdout",
          "text": [
            "Mounted at /content/gdrive\n"
          ]
        }
      ]
    },
    {
      "cell_type": "code",
      "source": [
        "%cd gdrive/MyDrive/3_year/parallel_corpora"
      ],
      "metadata": {
        "colab": {
          "base_uri": "https://localhost:8080/"
        },
        "id": "JXq-dHE6ioq5",
        "outputId": "ca6546f9-e6a1-4a8c-ec6c-237dbf6b2f6f"
      },
      "id": "JXq-dHE6ioq5",
      "execution_count": null,
      "outputs": [
        {
          "output_type": "stream",
          "name": "stdout",
          "text": [
            "/content/gdrive/MyDrive/3_year/parallel_corpora\n"
          ]
        }
      ]
    },
    {
      "cell_type": "code",
      "execution_count": null,
      "id": "6fcbb569",
      "metadata": {
        "id": "6fcbb569"
      },
      "outputs": [],
      "source": [
        "import os, sys\n",
        "import numpy as np\n",
        "import matplotlib\n",
        "matplotlib.use('Agg')\n",
        "from matplotlib import pyplot as plt\n",
        "from matplotlib.collections import LineCollection\n",
        "\n",
        "from sklearn.manifold import MDS\n",
        "from sklearn.metrics import euclidean_distances\n",
        "\n",
        "import numpy as np\n",
        "from scipy import ndimage\n",
        "from matplotlib import pyplot as plt\n",
        "import matplotlib.patches as mpatches\n",
        "\n",
        "from sklearn import manifold, datasets\n",
        "import pandas as pd\n",
        "from tqdm import tqdm"
      ]
    },
    {
      "cell_type": "code",
      "execution_count": null,
      "id": "a80d809e",
      "metadata": {
        "id": "a80d809e"
      },
      "outputs": [],
      "source": [
        "import csv\n",
        "from collections import defaultdict\n",
        "import os\n",
        "from itertools import combinations"
      ]
    },
    {
      "cell_type": "code",
      "source": [
        "from pprint import pprint"
      ],
      "metadata": {
        "id": "qfC4QnrjykJP"
      },
      "id": "qfC4QnrjykJP",
      "execution_count": null,
      "outputs": []
    },
    {
      "cell_type": "code",
      "execution_count": null,
      "id": "3b918e50",
      "metadata": {
        "id": "3b918e50"
      },
      "outputs": [],
      "source": [
        "from collections import Counter"
      ]
    },
    {
      "cell_type": "code",
      "execution_count": null,
      "id": "98cb6561",
      "metadata": {
        "id": "98cb6561"
      },
      "outputs": [],
      "source": [
        "def read_the_data(fname):\n",
        "    \"\"\"Делает список из списков тэгов. Один список - тэги внутри одной переводной единицы\"\"\"\n",
        "    \n",
        "    with open(fname, 'r', encoding='utf-8') as tsvfile:\n",
        "        dataset = csv.reader(tsvfile, delimiter='\\t')\n",
        "        transl_units = defaultdict(list)\n",
        "        for line in dataset:\n",
        "            transl_units[line[1]].append([line[2], line[4]])\n",
        "    tags = []\n",
        "    for unit in transl_units:\n",
        "        # if len(transl_units[unit]) != 4:\n",
        "        #     print(unit)\n",
        "        sents = sorted(transl_units[unit], key=lambda x: x[0])\n",
        "        tags.append([sent[1] for sent in sents])       \n",
        "    return tags\n",
        "\n",
        "def dissimilarity_matrix(data, n_lang=7):\n",
        "    print('!!!!')\n",
        "    #подсчет матрицы\n",
        "    matrix = []\n",
        "    for i in range(len(data)):\n",
        "        sim_row = []\n",
        "        for j in range(len(data)):\n",
        "            sim_loc = 0\n",
        "            for k in range(len(data[i])):\n",
        "                if data[i][k] == data[j][k]:\n",
        "                    sim_loc += 1\n",
        "            sim_row.append(1 - sim_loc/n_lang) \n",
        "        matrix.append(sim_row)\n",
        "    return matrix\n",
        "\n",
        "def mds_stuff(matrix, ndim):\n",
        "    matrix = np.array(matrix)\n",
        "    mds = MDS(n_components=ndim, random_state=42, dissimilarity='precomputed')\n",
        "    \n",
        "    pos = mds.fit_transform(matrix)\n",
        "\n",
        "    #print(mds.stress_)\n",
        "    DE = euclidean_distances(pos)\n",
        "    stress = 0.5 * np.sum((DE - matrix)**2)\n",
        "\n",
        "    ## Kruskal's stress (or stress formula 1)\n",
        "    stress1 = np.sqrt(stress / (0.5 * np.sum(matrix**2)))\n",
        "    print(\"Kruskal's Stress :\")\n",
        "    print(\"[Poor > 0.2 > Fair > 0.1 > Good > 0.05 > Excellent > 0.025 > Perfect > 0.0]\")\n",
        "    print(stress1)\n",
        "    return pos, (stress, stress1)\n",
        "\n",
        "def make_plot(pos, lang_ind, langs, dim_x, dim_y, tagset):\n",
        "    fig = plt.subplots(dpi=700, figsize=(9,8))\n",
        "    \n",
        "    tag_cmap = plt.cm.get_cmap('gist_rainbow', len(tagset))\n",
        "    \n",
        "    for i in range(len(tags)-1):\n",
        "        tag = tags[i][lang_ind]\n",
        "        if tag == 'missing':\n",
        "            continue\n",
        "        if tag in special_tags_colors:\n",
        "            color = special_tags_colors[tag]\n",
        "        else:\n",
        "            color = tag_cmap(tagset.index(tag))\n",
        "        plt.scatter(pos[i, dim_x], pos[i, dim_y], color=color)\n",
        "        plt.text(pos[i, dim_x], pos[i, dim_y], tag, fontsize=6)\n",
        "\n",
        "    plt.title(langs[lang_ind])\n",
        "    plt.xlabel ('DIMENSION '+str(dim_x))\n",
        "    plt.ylabel ('DIMENSION '+str(dim_y))\n",
        "\n",
        "    pic_dir = os.path.join('pictures', str(selected_dim))\n",
        "    if not os.path.exists(pic_dir):\n",
        "        os.makedirs(pic_dir)\n",
        "    plt.savefig(os.path.join(pic_dir, selected_dataset + '_' + langs[lang_ind] + '_' + str(dim_x) + '_' + str(dim_y) + '.png'))\n",
        "    #plt.close(fig)"
      ]
    },
    {
      "cell_type": "code",
      "source": [
        "# CONSTS\n",
        "datasets = {\n",
        "    '1': 'csv_version_5columns.tsv', \n",
        "    '2': 'selected_lang_only_5columns.tsv',\n",
        "    '3': 'csv_version_5columns_2.tsv'\n",
        "}\n",
        "special_tags_colors = {\n",
        "    'imp': '#004b23',\n",
        "    'missing': '#e9ebf8',\n",
        "    'lexical': '#e9ebf8',\n",
        "    'inter': '#007200',  \n",
        "    'jus': '#38b000',\n",
        "    'cond': '#70e000',\n",
        "    'fut': '#22577a', \n",
        "    'other': '#e0e1dd', \n",
        "    'щоб + v': '#1982c4', \n",
        "    'чтобы + v': '#1982c4', \n",
        "    'pour  + v': '#1982c4'\n",
        "}"
      ],
      "metadata": {
        "id": "UaCYxrkPRFqu"
      },
      "id": "UaCYxrkPRFqu",
      "execution_count": 28,
      "outputs": []
    },
    {
      "cell_type": "code",
      "execution_count": 29,
      "id": "059d4c3f",
      "metadata": {
        "id": "059d4c3f"
      },
      "outputs": [],
      "source": [
        "#  expirimental setup\n",
        "\n",
        "selected_dataset = '3'\n",
        "n_dim = [2, 3, 5, 7, 10, 15, 20]\n",
        "\n",
        "# langs = sorted(['ru', 'en', 'de', 'it', 'es', 'fr', 'uk'])\n",
        "langs = sorted(['ru', 'en', 'fr', 'uk'])"
      ]
    },
    {
      "cell_type": "code",
      "source": [
        "filename = datasets[selected_dataset]\n",
        "tags = read_the_data(filename)"
      ],
      "metadata": {
        "id": "EHJxb7L7RVf8"
      },
      "id": "EHJxb7L7RVf8",
      "execution_count": 30,
      "outputs": []
    },
    {
      "cell_type": "code",
      "source": [
        "stresses_dict = {}\n",
        "for dim in n_dim:\n",
        "    matrix = dissimilarity_matrix(tags[1:], n_lang=len(langs))\n",
        "    pos, stresses = mds_stuff(matrix, dim)\n",
        "    stresses_dict[dim] = stresses"
      ],
      "metadata": {
        "colab": {
          "base_uri": "https://localhost:8080/"
        },
        "id": "DcGzcL6kqAOK",
        "outputId": "d47545f1-87ba-455a-d652-98cd38adb44a"
      },
      "id": "DcGzcL6kqAOK",
      "execution_count": 31,
      "outputs": [
        {
          "output_type": "stream",
          "name": "stdout",
          "text": [
            "!!!!\n",
            "Kruskal's Stress :\n",
            "[Poor > 0.2 > Fair > 0.1 > Good > 0.05 > Excellent > 0.025 > Perfect > 0.0]\n",
            "0.34178401122822333\n",
            "!!!!\n",
            "Kruskal's Stress :\n",
            "[Poor > 0.2 > Fair > 0.1 > Good > 0.05 > Excellent > 0.025 > Perfect > 0.0]\n",
            "0.24084991794586788\n",
            "!!!!\n",
            "Kruskal's Stress :\n",
            "[Poor > 0.2 > Fair > 0.1 > Good > 0.05 > Excellent > 0.025 > Perfect > 0.0]\n",
            "0.15181399904631412\n",
            "!!!!\n",
            "Kruskal's Stress :\n",
            "[Poor > 0.2 > Fair > 0.1 > Good > 0.05 > Excellent > 0.025 > Perfect > 0.0]\n",
            "0.11177265969039721\n",
            "!!!!\n",
            "Kruskal's Stress :\n",
            "[Poor > 0.2 > Fair > 0.1 > Good > 0.05 > Excellent > 0.025 > Perfect > 0.0]\n",
            "0.08130052850542216\n",
            "!!!!\n",
            "Kruskal's Stress :\n",
            "[Poor > 0.2 > Fair > 0.1 > Good > 0.05 > Excellent > 0.025 > Perfect > 0.0]\n",
            "0.06107381774150653\n",
            "!!!!\n",
            "Kruskal's Stress :\n",
            "[Poor > 0.2 > Fair > 0.1 > Good > 0.05 > Excellent > 0.025 > Perfect > 0.0]\n",
            "0.05488299183816553\n"
          ]
        }
      ]
    },
    {
      "cell_type": "code",
      "source": [
        "plt.close('all')"
      ],
      "metadata": {
        "id": "_hXuefawhVDO"
      },
      "id": "_hXuefawhVDO",
      "execution_count": 32,
      "outputs": []
    },
    {
      "cell_type": "code",
      "source": [
        "selected_dim = 20"
      ],
      "metadata": {
        "id": "Dl24EnrZRe2F"
      },
      "id": "Dl24EnrZRe2F",
      "execution_count": 33,
      "outputs": []
    },
    {
      "cell_type": "code",
      "execution_count": 34,
      "id": "f0d8fe86",
      "metadata": {
        "colab": {
          "base_uri": "https://localhost:8080/"
        },
        "id": "f0d8fe86",
        "outputId": "87ed9b59-6272-417d-faf5-d6c04a79405f"
      },
      "outputs": [
        {
          "output_type": "stream",
          "name": "stdout",
          "text": [
            "!!!!\n",
            "Kruskal's Stress :\n",
            "[Poor > 0.2 > Fair > 0.1 > Good > 0.05 > Excellent > 0.025 > Perfect > 0.0]\n",
            "0.05488299183816553\n"
          ]
        }
      ],
      "source": [
        "dim_x = 0\n",
        "dim_y = 1\n",
        "matrix = dissimilarity_matrix(tags[1:], n_lang=len(langs))\n",
        "pos, stresses = mds_stuff(matrix, selected_dim)\n",
        "for i in range(len(langs)):\n",
        "    lang_tagset = list(set([u[i] for u in tags]))\n",
        "    # counter_tags = Counter([u[i] for u in tags]).most_common()\n",
        "    # counter_tags = sorted(counter_tags, key=lambda x: x[1] * 1 if x[1] % 2 == 0 else x[1] * -1)\n",
        "    # lang_tagset = [t[0] for t in counter_tags]\n",
        "    make_plot(pos, i, langs, dim_x, dim_y, lang_tagset)\n",
        "for i in range(3):\n",
        "    dim_y = np.random.randint(1, high=selected_dim - 1, size=1)[0]\n",
        "    dim_x = dim_y - 1\n",
        "    for i in range(len(langs)):\n",
        "        lang_tagset = list(set([u[i] for u in tags]))\n",
        "        # counter_tags = Counter([u[i] for u in tags]).most_common()\n",
        "        # counter_tags = sorted(counter_tags, key=lambda x: x[1] * 1 if x[1] % 2 == 0 else x[1] * -1)\n",
        "        # lang_tagset = [t[0] for t in counter_tags]\n",
        "        make_plot(pos, i, langs, dim_x, dim_y, lang_tagset)"
      ]
    },
    {
      "cell_type": "code",
      "source": [],
      "metadata": {
        "id": "KilfJszLhk_C"
      },
      "id": "KilfJszLhk_C",
      "execution_count": null,
      "outputs": []
    }
  ],
  "metadata": {
    "kernelspec": {
      "display_name": "Python 3 (ipykernel)",
      "language": "python",
      "name": "python3"
    },
    "language_info": {
      "codemirror_mode": {
        "name": "ipython",
        "version": 3
      },
      "file_extension": ".py",
      "mimetype": "text/x-python",
      "name": "python",
      "nbconvert_exporter": "python",
      "pygments_lexer": "ipython3",
      "version": "3.9.12"
    },
    "colab": {
      "provenance": []
    }
  },
  "nbformat": 4,
  "nbformat_minor": 5
}